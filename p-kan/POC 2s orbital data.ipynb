{
 "cells": [
  {
   "cell_type": "code",
   "execution_count": 1495,
   "metadata": {},
   "outputs": [],
   "source": [
    "from kan import *\n",
    "import torch\n",
    "import matplotlib.pyplot as plt\n",
    "from torch import autograd\n",
    "from tqdm import tqdm\n",
    "from pyscf import gto, scf\n",
    "from collections import Counter\n",
    "\n",
    "device = torch.device('cuda' if torch.cuda.is_available() else 'cpu')\n",
    "# print(device)"
   ]
  },
  {
   "cell_type": "code",
   "execution_count": 1496,
   "metadata": {},
   "outputs": [
    {
     "name": "stdout",
     "output_type": "stream",
     "text": [
      "checkpoint directory created: ./model\n",
      "saving model version 0.0\n",
      "Dataset shapes: torch.Size([10000, 1]) torch.Size([10000, 1])\n"
     ]
    }
   ],
   "source": [
    "# Total number of electrons\n",
    "total_electrons = 1\n",
    "total_electrons\n",
    "\n",
    "NUM_ELECTRONS = total_electrons\n",
    "INPUT_DIM = NUM_ELECTRONS\n",
    "OUTPUT_DIM = NUM_ELECTRONS\n",
    "\n",
    "\n",
    "# Create MultKAN model with specified widths\n",
    "# Create the initial MultKAN model\n",
    "#model = MultKAN(width=[1,[0,1],1], grid=5, k=3, seed=42, mult_arity=2)\n",
    "model = KAN(width=[1,1], grid=5, k=3, seed=0)\n",
    "\n",
    "# Create dataset\n",
    "f = lambda x:  (1 / np.sqrt(32 * np.pi)) * (2 - x[:,[0]]) * torch.exp((-1/2) * x[:,[0]]) \n",
    "dataset = create_dataset(f, n_var=1, ranges=[0,20], train_num=10000)\n",
    "print(\"Dataset shapes:\", dataset['train_input'].shape, dataset['train_label'].shape)"
   ]
  },
  {
   "cell_type": "code",
   "execution_count": 1497,
   "metadata": {},
   "outputs": [
    {
     "data": {
      "image/png": "[encoded data removed]",
      "text/plain": [
       "<Figure size 500x200 with 3 Axes>"
      ]
     },
     "metadata": {},
     "output_type": "display_data"
    }
   ],
   "source": [
    "model(dataset['train_input'])\n",
    "model.plot(beta=1)"
   ]
  },
  {
   "cell_type": "code",
   "execution_count": 1498,
   "metadata": {},
   "outputs": [
    {
     "name": "stderr",
     "output_type": "stream",
     "text": [
      "| train_loss: 2.21e-03 | test_loss: 2.05e-03 | reg: 1.57e-01 | : 100%|█| 100/100 [00:03<00:00, 26.83\n"
     ]
    },
    {
     "name": "stdout",
     "output_type": "stream",
     "text": [
      "saving model version 0.1\n"
     ]
    },
    {
     "data": {
      "text/plain": [
       "{'train_loss': [array(0.01708554),\n",
       "  array(0.01377941),\n",
       "  array(0.01175541),\n",
       "  array(0.00274449),\n",
       "  array(0.0026573),\n",
       "  array(0.00246708),\n",
       "  array(0.00250931),\n",
       "  array(0.00250965),\n",
       "  array(0.00250893),\n",
       "  array(0.00251594),\n",
       "  array(0.00243447),\n",
       "  array(0.00256383),\n",
       "  array(0.00263514),\n",
       "  array(0.00242143),\n",
       "  array(0.00222862),\n",
       "  array(0.00222588),\n",
       "  array(0.00223753),\n",
       "  array(0.00222241),\n",
       "  array(0.00221237),\n",
       "  array(0.00219577),\n",
       "  array(0.00221832),\n",
       "  array(0.0022129),\n",
       "  array(0.00221358),\n",
       "  array(0.00221356),\n",
       "  array(0.00221356),\n",
       "  array(0.00221356),\n",
       "  array(0.00221356),\n",
       "  array(0.00221356),\n",
       "  array(0.00221356),\n",
       "  array(0.00221356),\n",
       "  array(0.00221356),\n",
       "  array(0.00221356),\n",
       "  array(0.00221356),\n",
       "  array(0.00221356),\n",
       "  array(0.00221356),\n",
       "  array(0.00221356),\n",
       "  array(0.00221356),\n",
       "  array(0.00221356),\n",
       "  array(0.00221356),\n",
       "  array(0.00221356),\n",
       "  array(0.00221356),\n",
       "  array(0.00221356),\n",
       "  array(0.00221356),\n",
       "  array(0.00221356),\n",
       "  array(0.00221356),\n",
       "  array(0.00221356),\n",
       "  array(0.00221356),\n",
       "  array(0.00221356),\n",
       "  array(0.00221356),\n",
       "  array(0.00221356),\n",
       "  array(0.00221356),\n",
       "  array(0.00221356),\n",
       "  array(0.00221356),\n",
       "  array(0.00221356),\n",
       "  array(0.00221356),\n",
       "  array(0.00221356),\n",
       "  array(0.00221356),\n",
       "  array(0.00221356),\n",
       "  array(0.00221356),\n",
       "  array(0.00221356),\n",
       "  array(0.00221356),\n",
       "  array(0.00221356),\n",
       "  array(0.00221356),\n",
       "  array(0.00221356),\n",
       "  array(0.00221356),\n",
       "  array(0.00221356),\n",
       "  array(0.00221356),\n",
       "  array(0.00221356),\n",
       "  array(0.00221356),\n",
       "  array(0.00221356),\n",
       "  array(0.00221356),\n",
       "  array(0.00221356),\n",
       "  array(0.00221356),\n",
       "  array(0.00221356),\n",
       "  array(0.00221356),\n",
       "  array(0.00221356),\n",
       "  array(0.00221356),\n",
       "  array(0.00221356),\n",
       "  array(0.00221356),\n",
       "  array(0.00221356),\n",
       "  array(0.00221356),\n",
       "  array(0.00221356),\n",
       "  array(0.00221356),\n",
       "  array(0.00221356),\n",
       "  array(0.00221356),\n",
       "  array(0.00221356),\n",
       "  array(0.00221356),\n",
       "  array(0.00221356),\n",
       "  array(0.00221356),\n",
       "  array(0.00221356),\n",
       "  array(0.00221356),\n",
       "  array(0.00221356),\n",
       "  array(0.00221356),\n",
       "  array(0.00221356),\n",
       "  array(0.00221356),\n",
       "  array(0.00221356),\n",
       "  array(0.00221356),\n",
       "  array(0.00221356),\n",
       "  array(0.00221356),\n",
       "  array(0.00221356)],\n",
       " 'test_loss': [array(0.01607512),\n",
       "  array(0.01275186),\n",
       "  array(0.01108491),\n",
       "  array(0.00251102),\n",
       "  array(0.00239865),\n",
       "  array(0.00223331),\n",
       "  array(0.00226811),\n",
       "  array(0.00226818),\n",
       "  array(0.00226757),\n",
       "  array(0.00227648),\n",
       "  array(0.00219891),\n",
       "  array(0.00232222),\n",
       "  array(0.00239347),\n",
       "  array(0.00222146),\n",
       "  array(0.00203131),\n",
       "  array(0.00204056),\n",
       "  array(0.00206995),\n",
       "  array(0.0020625),\n",
       "  array(0.00205155),\n",
       "  array(0.00203603),\n",
       "  array(0.00205554),\n",
       "  array(0.00205097),\n",
       "  array(0.00205162),\n",
       "  array(0.0020516),\n",
       "  array(0.0020516),\n",
       "  array(0.0020516),\n",
       "  array(0.0020516),\n",
       "  array(0.0020516),\n",
       "  array(0.0020516),\n",
       "  array(0.0020516),\n",
       "  array(0.0020516),\n",
       "  array(0.0020516),\n",
       "  array(0.0020516),\n",
       "  array(0.0020516),\n",
       "  array(0.0020516),\n",
       "  array(0.0020516),\n",
       "  array(0.0020516),\n",
       "  array(0.0020516),\n",
       "  array(0.0020516),\n",
       "  array(0.0020516),\n",
       "  array(0.0020516),\n",
       "  array(0.0020516),\n",
       "  array(0.0020516),\n",
       "  array(0.0020516),\n",
       "  array(0.0020516),\n",
       "  array(0.0020516),\n",
       "  array(0.0020516),\n",
       "  array(0.0020516),\n",
       "  array(0.0020516),\n",
       "  array(0.0020516),\n",
       "  array(0.0020516),\n",
       "  array(0.0020516),\n",
       "  array(0.0020516),\n",
       "  array(0.0020516),\n",
       "  array(0.0020516),\n",
       "  array(0.0020516),\n",
       "  array(0.0020516),\n",
       "  array(0.0020516),\n",
       "  array(0.0020516),\n",
       "  array(0.0020516),\n",
       "  array(0.0020516),\n",
       "  array(0.0020516),\n",
       "  array(0.0020516),\n",
       "  array(0.0020516),\n",
       "  array(0.0020516),\n",
       "  array(0.0020516),\n",
       "  array(0.0020516),\n",
       "  array(0.0020516),\n",
       "  array(0.0020516),\n",
       "  array(0.0020516),\n",
       "  array(0.0020516),\n",
       "  array(0.0020516),\n",
       "  array(0.0020516),\n",
       "  array(0.0020516),\n",
       "  array(0.0020516),\n",
       "  array(0.0020516),\n",
       "  array(0.0020516),\n",
       "  array(0.0020516),\n",
       "  array(0.0020516),\n",
       "  array(0.0020516),\n",
       "  array(0.0020516),\n",
       "  array(0.0020516),\n",
       "  array(0.0020516),\n",
       "  array(0.0020516),\n",
       "  array(0.0020516),\n",
       "  array(0.0020516),\n",
       "  array(0.0020516),\n",
       "  array(0.0020516),\n",
       "  array(0.0020516),\n",
       "  array(0.0020516),\n",
       "  array(0.0020516),\n",
       "  array(0.0020516),\n",
       "  array(0.0020516),\n",
       "  array(0.0020516),\n",
       "  array(0.0020516),\n",
       "  array(0.0020516),\n",
       "  array(0.0020516),\n",
       "  array(0.0020516),\n",
       "  array(0.0020516),\n",
       "  array(0.0020516)],\n",
       " 'reg': [array(0.12999331),\n",
       "  array(0.13984721),\n",
       "  array(0.1326423),\n",
       "  array(0.15695525),\n",
       "  array(0.15698576),\n",
       "  array(0.15733365),\n",
       "  array(0.15711268),\n",
       "  array(0.1571109),\n",
       "  array(0.15711453),\n",
       "  array(0.15707566),\n",
       "  array(0.15743856),\n",
       "  array(0.15652804),\n",
       "  array(0.15603123),\n",
       "  array(0.15678187),\n",
       "  array(0.15738432),\n",
       "  array(0.15723354),\n",
       "  array(0.15713008),\n",
       "  array(0.15718743),\n",
       "  array(0.15722491),\n",
       "  array(0.15729591),\n",
       "  array(0.15719469),\n",
       "  array(0.15721821),\n",
       "  array(0.15721516),\n",
       "  array(0.15721523),\n",
       "  array(0.15721523),\n",
       "  array(0.15721524),\n",
       "  array(0.15721524),\n",
       "  array(0.15721524),\n",
       "  array(0.15721524),\n",
       "  array(0.15721524),\n",
       "  array(0.15721524),\n",
       "  array(0.15721524),\n",
       "  array(0.15721524),\n",
       "  array(0.15721524),\n",
       "  array(0.15721524),\n",
       "  array(0.15721524),\n",
       "  array(0.15721524),\n",
       "  array(0.15721524),\n",
       "  array(0.15721524),\n",
       "  array(0.15721524),\n",
       "  array(0.15721524),\n",
       "  array(0.15721524),\n",
       "  array(0.15721524),\n",
       "  array(0.15721524),\n",
       "  array(0.15721524),\n",
       "  array(0.15721524),\n",
       "  array(0.15721524),\n",
       "  array(0.15721524),\n",
       "  array(0.15721524),\n",
       "  array(0.15721524),\n",
       "  array(0.15721524),\n",
       "  array(0.15721524),\n",
       "  array(0.15721524),\n",
       "  array(0.15721524),\n",
       "  array(0.15721524),\n",
       "  array(0.15721524),\n",
       "  array(0.15721524),\n",
       "  array(0.15721524),\n",
       "  array(0.15721524),\n",
       "  array(0.15721524),\n",
       "  array(0.15721524),\n",
       "  array(0.15721524),\n",
       "  array(0.15721524),\n",
       "  array(0.15721524),\n",
       "  array(0.15721524),\n",
       "  array(0.15721524),\n",
       "  array(0.15721524),\n",
       "  array(0.15721524),\n",
       "  array(0.15721524),\n",
       "  array(0.15721524),\n",
       "  array(0.15721524),\n",
       "  array(0.15721524),\n",
       "  array(0.15721524),\n",
       "  array(0.15721524),\n",
       "  array(0.15721524),\n",
       "  array(0.15721524),\n",
       "  array(0.15721524),\n",
       "  array(0.15721524),\n",
       "  array(0.15721524),\n",
       "  array(0.15721524),\n",
       "  array(0.15721524),\n",
       "  array(0.15721524),\n",
       "  array(0.15721524),\n",
       "  array(0.15721524),\n",
       "  array(0.15721524),\n",
       "  array(0.15721524),\n",
       "  array(0.15721524),\n",
       "  array(0.15721524),\n",
       "  array(0.15721524),\n",
       "  array(0.15721524),\n",
       "  array(0.15721524),\n",
       "  array(0.15721524),\n",
       "  array(0.15721524),\n",
       "  array(0.15721524),\n",
       "  array(0.15721524),\n",
       "  array(0.15721524),\n",
       "  array(0.15721524),\n",
       "  array(0.15721524),\n",
       "  array(0.15721524),\n",
       "  array(0.15721524)]}"
      ]
     },
     "execution_count": 1498,
     "metadata": {},
     "output_type": "execute_result"
    }
   ],
   "source": [
    "model.fit(dataset, steps=100, lamb=0.001)"
   ]
  },
  {
   "cell_type": "code",
   "execution_count": 1499,
   "metadata": {},
   "outputs": [
    {
     "data": {
      "image/png": "[encoded data removed]",
      "text/plain": [
       "<Figure size 500x200 with 3 Axes>"
      ]
     },
     "metadata": {},
     "output_type": "display_data"
    }
   ],
   "source": [
    "model.plot(beta=1)"
   ]
  },
  {
   "cell_type": "code",
   "execution_count": 1500,
   "metadata": {},
   "outputs": [
    {
     "name": "stdout",
     "output_type": "stream",
     "text": [
      "saving model version 0.2\n"
     ]
    },
    {
     "name": "stderr",
     "output_type": "stream",
     "text": [
      "| train_loss: 8.11e-04 | test_loss: 7.98e-04 | reg: 1.67e-01 | : 100%|█| 100/100 [00:01<00:00, 59.43\n"
     ]
    },
    {
     "name": "stdout",
     "output_type": "stream",
     "text": [
      "saving model version 0.3\n",
      "saving model version 0.4\n"
     ]
    },
    {
     "name": "stderr",
     "output_type": "stream",
     "text": [
      "| train_loss: 9.37e-05 | test_loss: 9.05e-05 | reg: 1.67e-01 | : 100%|█| 100/100 [00:10<00:00,  9.17\n"
     ]
    },
    {
     "name": "stdout",
     "output_type": "stream",
     "text": [
      "saving model version 0.5\n",
      "saving model version 0.6\n"
     ]
    },
    {
     "name": "stderr",
     "output_type": "stream",
     "text": [
      "| train_loss: 8.17e-06 | test_loss: 8.36e-06 | reg: 1.67e-01 | : 100%|█| 100/100 [00:05<00:00, 17.66\n"
     ]
    },
    {
     "name": "stdout",
     "output_type": "stream",
     "text": [
      "saving model version 0.7\n",
      "saving model version 0.8\n"
     ]
    },
    {
     "name": "stderr",
     "output_type": "stream",
     "text": [
      "| train_loss: 3.88e-07 | test_loss: 3.75e-07 | reg: 1.67e-01 | : 100%|█| 100/100 [00:16<00:00,  6.09"
     ]
    },
    {
     "name": "stdout",
     "output_type": "stream",
     "text": [
      "saving model version 0.9\n"
     ]
    },
    {
     "name": "stderr",
     "output_type": "stream",
     "text": [
      "\n"
     ]
    }
   ],
   "source": [
    "grids = np.array([3,10,20,50])\n",
    "\n",
    "train_losses = []\n",
    "test_losses = []\n",
    "steps = 100\n",
    "\n",
    "for i in range(grids.shape[0]):\n",
    "        model = model.refine(grids[i])\n",
    "        results = model.fit(dataset, opt=\"LBFGS\", steps=steps)\n",
    "        train_losses += results['train_loss']\n",
    "        test_losses += results['test_loss']"
   ]
  },
  {
   "cell_type": "code",
   "execution_count": 1501,
   "metadata": {},
   "outputs": [
    {
     "data": {
      "image/png": "[encoded data removed]",
      "text/plain": [
       "<Figure size 640x480 with 1 Axes>"
      ]
     },
     "metadata": {},
     "output_type": "display_data"
    }
   ],
   "source": [
    "plt.plot(train_losses)\n",
    "plt.plot(test_losses)\n",
    "plt.legend(['train', 'test'])\n",
    "plt.ylabel('RMSE')\n",
    "plt.xlabel('step')\n",
    "plt.yscale('log')"
   ]
  },
  {
   "cell_type": "code",
   "execution_count": 1502,
   "metadata": {},
   "outputs": [
    {
     "data": {
      "image/png": "[encoded data removed]",
      "text/plain": [
       "<Figure size 500x200 with 3 Axes>"
      ]
     },
     "metadata": {},
     "output_type": "display_data"
    }
   ],
   "source": [
    "model.plot()"
   ]
  },
  {
   "cell_type": "code",
   "execution_count": 1503,
   "metadata": {},
   "outputs": [
    {
     "data": {
      "image/png": "[encoded data removed]",
      "text/plain": [
       "<Figure size 300x300 with 1 Axes>"
      ]
     },
     "metadata": {},
     "output_type": "display_data"
    }
   ],
   "source": [
    "function_1 = np.array(model.get_fun(0,0,0))"
   ]
  },
  {
   "cell_type": "code",
   "execution_count": 1504,
   "metadata": {},
   "outputs": [],
   "source": [
    "total_fun1 = function_1[0]\n",
    "total_fun2 = function_1[1]"
   ]
  },
  {
   "cell_type": "code",
   "execution_count": 1505,
   "metadata": {},
   "outputs": [
    {
     "name": "stdout",
     "output_type": "stream",
     "text": [
      "fixing (0,0,0) with exp, r2=0.8927891547679307, c=2\n",
      "saving model version 0.10\n"
     ]
    }
   ],
   "source": [
    "mode = \"auto\" # \"manual\"\n",
    "\n",
    "if mode == \"manual\":\n",
    "    # manual mode\n",
    "    model.fix_symbolic(0,0,1,'x')\n",
    "    model.fix_symbolic(0,0,1,'exp')\n",
    "elif mode == \"auto\":\n",
    "    # automatic mode\n",
    "    lib = ['x','exp']\n",
    "    model.auto_symbolic(lib=lib, weight_simple=0.7)"
   ]
  },
  {
   "cell_type": "code",
   "execution_count": 1506,
   "metadata": {},
   "outputs": [],
   "source": [
    "sf = model.symbolic_formula()[0][0]"
   ]
  },
  {
   "cell_type": "code",
   "execution_count": 1507,
   "metadata": {},
   "outputs": [
    {
     "data": {
      "text/latex": [
       "$\\displaystyle - \\frac{8}{993} + \\frac{29 e^{- \\frac{343 x_{1}}{250}}}{125}$"
      ],
      "text/plain": [
       "-8/993 + 29*exp(-343*x_1/250)/125"
      ]
     },
     "execution_count": 1507,
     "metadata": {},
     "output_type": "execute_result"
    }
   ],
   "source": [
    "nsimplify(ex_round(ex_round(sf, 3),3))"
   ]
  },
  {
   "cell_type": "code",
   "execution_count": 1508,
   "metadata": {},
   "outputs": [
    {
     "data": {
      "image/png": "[encoded data removed]",
      "text/plain": [
       "<Figure size 1500x500 with 1 Axes>"
      ]
     },
     "metadata": {},
     "output_type": "display_data"
    }
   ],
   "source": [
    "x = total_fun1.reshape(-1, 1)\n",
    "\n",
    "f =  ((1 / np.sqrt(32 * np.pi)) * (2 - x) * np.exp(-0.5 * x))\n",
    "g = total_fun2.reshape(-1, 1)\n",
    "\n",
    "# Create subplots\n",
    "fig, (ax1) = plt.subplots(1, 1, figsize=(15, 5))\n",
    "\n",
    "# Regular functions plot\n",
    "ax1.plot(x, f, '--', label='True function (f)', linewidth=2)\n",
    "ax1.plot(x, g, '*', label='Learned function (g)', linewidth=1, markersize=2)\n",
    "ax1.set_xlabel('x')\n",
    "ax1.set_ylabel('y')\n",
    "ax1.set_title('Original Functions')\n",
    "ax1.legend(markerscale=10)\n",
    "ax1.grid(True)\n",
    "\n",
    "\n",
    "plt.tight_layout()\n",
    "plt.show()"
   ]
  },
  {
   "cell_type": "code",
   "execution_count": 1509,
   "metadata": {},
   "outputs": [
    {
     "name": "stdout",
     "output_type": "stream",
     "text": [
      "Mean Squared Error: 0.0000000000\n"
     ]
    }
   ],
   "source": [
    "mse = np.mean((f - g) ** 2)\n",
    "print(f\"Mean Squared Error: {mse:.10f}\")"
   ]
  }
 ],
 "metadata": {
  "kernelspec": {
   "display_name": "pykan",
   "language": "python",
   "name": "pykan"
  },
  "language_info": {
   "codemirror_mode": {
    "name": "ipython",
    "version": 3
   },
   "file_extension": ".py",
   "mimetype": "text/x-python",
   "name": "python",
   "nbconvert_exporter": "python",
   "pygments_lexer": "ipython3",
   "version": "3.12.0"
  }
 },
 "nbformat": 4,
 "nbformat_minor": 2
}

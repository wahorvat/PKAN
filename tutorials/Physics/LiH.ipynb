{
 "cells": [
  {
   "cell_type": "code",
   "execution_count": 1,
   "metadata": {},
   "outputs": [],
   "source": [
    "from kan import *\n",
    "import torch\n",
    "import matplotlib.pyplot as plt\n",
    "from torch import autograd\n",
    "from tqdm import tqdm"
   ]
  },
  {
   "cell_type": "code",
   "execution_count": 2,
   "metadata": {},
   "outputs": [
    {
     "name": "stdout",
     "output_type": "stream",
     "text": [
      "cpu\n"
     ]
    }
   ],
   "source": [
    "device = torch.device('cuda' if torch.cuda.is_available() else 'cpu')\n",
    "print(device)"
   ]
  },
  {
   "cell_type": "code",
   "execution_count": 24,
   "metadata": {},
   "outputs": [],
   "source": [
    "# CHEM_SYM = 'LiH'\n",
    "\n",
    "SEED = 1000\n",
    "\n",
    "# NUM_VAL_ELECTRONS, SPIN_UP, SPIN_DOWN, RAND_STARTING_POS = mol_scf(CHEM_SYS, RAND_SEED)\n",
    "\n",
    "NUM_ELECTRONS = 2\n"
   ]
  },
  {
   "cell_type": "code",
   "execution_count": 56,
   "metadata": {},
   "outputs": [
    {
     "name": "stdout",
     "output_type": "stream",
     "text": [
      "checkpoint directory created: ./model\n",
      "saving model version 0.0\n"
     ]
    },
    {
     "name": "stderr",
     "output_type": "stream",
     "text": [
      "description:   0%|                                                           | 0/20 [00:00<?, ?it/s]"
     ]
    },
    {
     "name": "stderr",
     "output_type": "stream",
     "text": [
      "| train_loss: 3.01e-01 | test_loss: 3.00e-01 | reg: 7.26e+00 | : 100%|█| 20/20 [00:00<00:00, 23.19it"
     ]
    },
    {
     "name": "stdout",
     "output_type": "stream",
     "text": [
      "saving model version 0.1\n"
     ]
    },
    {
     "name": "stderr",
     "output_type": "stream",
     "text": [
      "\n"
     ]
    }
   ],
   "source": [
    "# Create a KAN: \n",
    "# 5 grid intervals (grid=5).\n",
    "INPUT_DIM = 2 * NUM_ELECTRONS\n",
    "ADDITION_DIM = NUM_ELECTRONS\n",
    "MULT_DIM = NUM_ELECTRONS\n",
    "OUTPUT_DIM = 1\n",
    "\n",
    "NUM_RADIAL_FUNCTIONS = 5\n",
    "NUM_ANGULAR_FUNCTIONS = 5\n",
    "\n",
    "model = KAN(width=[INPUT_DIM, [0, NUM_ELECTRONS]], \n",
    "            grid=5, \n",
    "            k=2, \n",
    "            seed=SEED, \n",
    "            device=device)\n",
    "\n",
    "\n",
    "f = lambda x: torch.sin(2*(torch.log(x[:,[0]])+torch.log(x[:,[1]])))\n",
    "\n",
    "dataset = create_dataset(f, n_var=INPUT_DIM, ranges=[0.2,5], device=device)\n",
    "\n",
    "# train the model\n",
    "model.fit(dataset, opt=\"LBFGS\", steps=20);"
   ]
  },
  {
   "cell_type": "code",
   "execution_count": 57,
   "metadata": {},
   "outputs": [
    {
     "data": {
      "image/png": "[encoded data removed]",
      "text/plain": [
       "<Figure size 500x200 with 23 Axes>"
      ]
     },
     "metadata": {},
     "output_type": "display_data"
    }
   ],
   "source": [
    "model.plot()"
   ]
  },
  {
   "cell_type": "code",
   "execution_count": 49,
   "metadata": {},
   "outputs": [
    {
     "name": "stdout",
     "output_type": "stream",
     "text": [
      "Best value at boundary.\n",
      "r2 is 0.9950834512710571\n",
      "saving model version 0.2\n",
      "r2 is 0.9944485425949097\n",
      "saving model version 0.3\n",
      "r2 is 0.46848443150520325\n",
      "r2 is not very high, please double check if you are choosing the correct symbolic function.\n",
      "saving model version 0.4\n"
     ]
    },
    {
     "data": {
      "text/plain": [
       "tensor(0.4685)"
      ]
     },
     "execution_count": 49,
     "metadata": {},
     "output_type": "execute_result"
    }
   ],
   "source": [
    "model.fix_symbolic(0,0,0,'log')\n",
    "model.fix_symbolic(0,1,0,'log')\n",
    "model.fix_symbolic(1,0,0,'sin')"
   ]
  },
  {
   "cell_type": "code",
   "execution_count": 50,
   "metadata": {},
   "outputs": [
    {
     "name": "stderr",
     "output_type": "stream",
     "text": [
      "| train_loss: nan | test_loss: nan | reg: nan | : 100%|█████████████| 20/20 [00:03<00:00,  5.57it/s]"
     ]
    },
    {
     "name": "stdout",
     "output_type": "stream",
     "text": [
      "saving model version 0.5\n"
     ]
    },
    {
     "name": "stderr",
     "output_type": "stream",
     "text": [
      "\n"
     ]
    }
   ],
   "source": [
    "model.fit(dataset, opt=\"LBFGS\", steps=20);"
   ]
  },
  {
   "cell_type": "code",
   "execution_count": 51,
   "metadata": {},
   "outputs": [
    {
     "data": {
      "text/latex": [
       "$\\displaystyle \\text{NaN}$"
      ],
      "text/plain": [
       "nan"
      ]
     },
     "execution_count": 51,
     "metadata": {},
     "output_type": "execute_result"
    }
   ],
   "source": [
    "ex_round(model.symbolic_formula()[0][0], 3)"
   ]
  },
  {
   "cell_type": "code",
   "execution_count": null,
   "metadata": {},
   "outputs": [],
   "source": [
    "\"\"\"\n",
    "TO DO:\n",
    "    - loss function or update rule that ensures each node has an input\n",
    "    - how loss will be calculated: VMC/local energy/full SE\n",
    "    - relaxed configuration input data: pySCF\n",
    "    - parameters to optimize in radial and angular functions\n",
    "    - which electrons to use\n",
    "    - encode pauli exclusion: determinant should resolve\n",
    "    - what is updated input for ab initio cycle\n",
    "    - function or orbital basis set\n",
    "    - experiements: likely psiformer comparison and reference data\n",
    "\n",
    "GENERAL IDEA:\n",
    "    1) atomic positions are given by pySCF\n",
    "    2) number of electrons are given by atomic number/valence info\n",
    "    3) network nodes are parameterized by electron number n\n",
    "    4) each node has n functions/connections for one to each electron in the next layer, including a one to itself\n",
    "    5) radial and angular functions are on the same layer with multiplication at the \n",
    "\"\"\""
   ]
  }
 ],
 "metadata": {
  "kernelspec": {
   "display_name": "pykan",
   "language": "python",
   "name": "pykan"
  },
  "language_info": {
   "codemirror_mode": {
    "name": "ipython",
    "version": 3
   },
   "file_extension": ".py",
   "mimetype": "text/x-python",
   "name": "python",
   "nbconvert_exporter": "python",
   "pygments_lexer": "ipython3",
   "version": "3.12.0"
  }
 },
 "nbformat": 4,
 "nbformat_minor": 2
}
